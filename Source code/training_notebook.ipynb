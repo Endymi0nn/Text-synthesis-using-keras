{
  "cells": [
    {
      "cell_type": "code",
      "execution_count": 1,
      "metadata": {
        "id": "2Vi08BMMFh3H"
      },
      "outputs": [],
      "source": [
        "import numpy as np\n",
        "from tensorflow import keras"
      ]
    },
    {
      "cell_type": "code",
      "source": [
        "from google.colab import drive\n",
        "drive.mount('/content/gdrive',force_remount=True)"
      ],
      "metadata": {
        "colab": {
          "base_uri": "https://localhost:8080/"
        },
        "id": "91gmhHb2Finf",
        "outputId": "e8b32899-cf70-4487-ec05-a3f6b7a9d542"
      },
      "execution_count": 2,
      "outputs": [
        {
          "output_type": "stream",
          "name": "stdout",
          "text": [
            "Mounted at /content/gdrive\n"
          ]
        }
      ]
    },
    {
      "cell_type": "code",
      "source": [
        "%cd /content/gdrive/MyDrive/Colab Notebooks"
      ],
      "metadata": {
        "colab": {
          "base_uri": "https://localhost:8080/"
        },
        "id": "92E_7fW1GGsb",
        "outputId": "399e82b1-96c2-401c-ba66-f71cc4e652ef"
      },
      "execution_count": 3,
      "outputs": [
        {
          "output_type": "stream",
          "name": "stdout",
          "text": [
            "/content/gdrive/MyDrive/Colab Notebooks\n"
          ]
        }
      ]
    },
    {
      "cell_type": "code",
      "execution_count": 4,
      "metadata": {
        "colab": {
          "base_uri": "https://localhost:8080/"
        },
        "id": "yY-NX13MFh3N",
        "outputId": "1c3dc4cf-9090-4c36-c28f-92fc326c3813"
      },
      "outputs": [
        {
          "output_type": "execute_result",
          "data": {
            "text/plain": [
              "['arr_0', 'arr_1']"
            ]
          },
          "metadata": {},
          "execution_count": 4
        }
      ],
      "source": [
        "npzfile = np.load('processed_data.npz')\n",
        "npzfile.files"
      ]
    },
    {
      "cell_type": "code",
      "execution_count": 5,
      "metadata": {
        "id": "xP4wV3t7Fh3O"
      },
      "outputs": [],
      "source": [
        "x=npzfile['arr_0']\n",
        "y=npzfile['arr_1']"
      ]
    },
    {
      "cell_type": "code",
      "execution_count": 6,
      "metadata": {
        "id": "QbdahM2vFh3O"
      },
      "outputs": [],
      "source": [
        "from sklearn.model_selection import train_test_split\n",
        "x_train,x_test,y_train,y_test=train_test_split(x,y,test_size=0.2)"
      ]
    },
    {
      "cell_type": "code",
      "execution_count": 7,
      "metadata": {
        "id": "_iafvm1BFh3O"
      },
      "outputs": [],
      "source": [
        "from sklearn.utils import shuffle\n",
        "x_train, y_train = shuffle(x_train,y_train, random_state=42)\n",
        "x_test, y_test = shuffle(x_test,y_test, random_state=42)"
      ]
    },
    {
      "cell_type": "code",
      "execution_count": 8,
      "metadata": {
        "id": "jvqIJim0Fh3P"
      },
      "outputs": [],
      "source": [
        "vocabulary_size=6172\n",
        "seq_len=10"
      ]
    },
    {
      "cell_type": "code",
      "source": [
        "print(x_train.shape)\n",
        "print(y_train.shape)"
      ],
      "metadata": {
        "colab": {
          "base_uri": "https://localhost:8080/"
        },
        "id": "VrYukhUvHGEY",
        "outputId": "d7f42747-3857-4ade-f1ce-b573d6b235f0"
      },
      "execution_count": 24,
      "outputs": [
        {
          "output_type": "stream",
          "name": "stdout",
          "text": [
            "(72664, 10)\n",
            "(72664, 6172)\n"
          ]
        }
      ]
    },
    {
      "cell_type": "code",
      "execution_count": 9,
      "metadata": {
        "id": "7SOpPayxFh3Q"
      },
      "outputs": [],
      "source": [
        "model=keras.Sequential([\n",
        "  keras.layers.Embedding(vocabulary_size,50,input_length=seq_len),\n",
        "  keras.layers.Bidirectional(keras.layers.GRU(50,return_sequences=True)),\n",
        "  keras.layers.Dropout(0.2),\n",
        "  keras.layers.Bidirectional(keras.layers.GRU(50)),\n",
        "  keras.layers.Dropout(0.2),\n",
        "  keras.layers.Dense(50, activation='relu'),\n",
        "  keras.layers.Dense(vocabulary_size,activation='softmax')\n",
        "\n",
        "])"
      ]
    },
    {
      "cell_type": "code",
      "execution_count": 10,
      "metadata": {
        "id": "5M-u1bsFFh3Q"
      },
      "outputs": [],
      "source": [
        "from keras.callbacks import ModelCheckpoint,EarlyStopping\n",
        "\n",
        "Earstop=EarlyStopping(monitor='val_accuracy',patience=5)\n",
        "checkP=ModelCheckpoint('textsyn_model.h5',monitor='val_accuracy',mode='max',verbose=1,save_best_only=True)"
      ]
    },
    {
      "cell_type": "code",
      "execution_count": 11,
      "metadata": {
        "id": "pqvTLxzkFh3R"
      },
      "outputs": [],
      "source": [
        "model.compile(optimizer='adam',loss='categorical_crossentropy',metrics=['accuracy'])"
      ]
    },
    {
      "cell_type": "code",
      "execution_count": 12,
      "metadata": {
        "colab": {
          "base_uri": "https://localhost:8080/"
        },
        "id": "hdSk-prEFh3R",
        "outputId": "0d702463-43e5-42cd-f700-09d5c6c305af"
      },
      "outputs": [
        {
          "output_type": "stream",
          "name": "stdout",
          "text": [
            "Epoch 1/100\n",
            "568/568 [==============================] - ETA: 0s - loss: 6.4981 - accuracy: 0.0436\n",
            "Epoch 1: val_accuracy improved from -inf to 0.05361, saving model to textsyn_model.h5\n",
            "568/568 [==============================] - 79s 119ms/step - loss: 6.4981 - accuracy: 0.0436 - val_loss: 6.2182 - val_accuracy: 0.0536\n",
            "Epoch 2/100\n",
            "568/568 [==============================] - ETA: 0s - loss: 5.9329 - accuracy: 0.0735\n",
            "Epoch 2: val_accuracy improved from 0.05361 to 0.09644, saving model to textsyn_model.h5\n",
            "568/568 [==============================] - 63s 111ms/step - loss: 5.9329 - accuracy: 0.0735 - val_loss: 5.8672 - val_accuracy: 0.0964\n",
            "Epoch 3/100\n",
            "568/568 [==============================] - ETA: 0s - loss: 5.5667 - accuracy: 0.1150\n",
            "Epoch 3: val_accuracy improved from 0.09644 to 0.13915, saving model to textsyn_model.h5\n",
            "568/568 [==============================] - 58s 103ms/step - loss: 5.5667 - accuracy: 0.1150 - val_loss: 5.6596 - val_accuracy: 0.1392\n",
            "Epoch 4/100\n",
            "568/568 [==============================] - ETA: 0s - loss: 5.2660 - accuracy: 0.1463\n",
            "Epoch 4: val_accuracy improved from 0.13915 to 0.15176, saving model to textsyn_model.h5\n",
            "568/568 [==============================] - 59s 104ms/step - loss: 5.2660 - accuracy: 0.1463 - val_loss: 5.5555 - val_accuracy: 0.1518\n",
            "Epoch 5/100\n",
            "568/568 [==============================] - ETA: 0s - loss: 5.0418 - accuracy: 0.1634\n",
            "Epoch 5: val_accuracy improved from 0.15176 to 0.16442, saving model to textsyn_model.h5\n",
            "568/568 [==============================] - 60s 105ms/step - loss: 5.0418 - accuracy: 0.1634 - val_loss: 5.5119 - val_accuracy: 0.1644\n",
            "Epoch 6/100\n",
            "568/568 [==============================] - ETA: 0s - loss: 4.8662 - accuracy: 0.1742\n",
            "Epoch 6: val_accuracy improved from 0.16442 to 0.16800, saving model to textsyn_model.h5\n",
            "568/568 [==============================] - 60s 106ms/step - loss: 4.8662 - accuracy: 0.1742 - val_loss: 5.5232 - val_accuracy: 0.1680\n",
            "Epoch 7/100\n",
            "568/568 [==============================] - ETA: 0s - loss: 4.7348 - accuracy: 0.1820\n",
            "Epoch 7: val_accuracy improved from 0.16800 to 0.17157, saving model to textsyn_model.h5\n",
            "568/568 [==============================] - 59s 104ms/step - loss: 4.7348 - accuracy: 0.1820 - val_loss: 5.5241 - val_accuracy: 0.1716\n",
            "Epoch 8/100\n",
            "568/568 [==============================] - ETA: 0s - loss: 4.6171 - accuracy: 0.1891\n",
            "Epoch 8: val_accuracy improved from 0.17157 to 0.17493, saving model to textsyn_model.h5\n",
            "568/568 [==============================] - 60s 106ms/step - loss: 4.6171 - accuracy: 0.1891 - val_loss: 5.5996 - val_accuracy: 0.1749\n",
            "Epoch 9/100\n",
            "568/568 [==============================] - ETA: 0s - loss: 4.5136 - accuracy: 0.1942\n",
            "Epoch 9: val_accuracy improved from 0.17493 to 0.17515, saving model to textsyn_model.h5\n",
            "568/568 [==============================] - 61s 108ms/step - loss: 4.5136 - accuracy: 0.1942 - val_loss: 5.6398 - val_accuracy: 0.1752\n",
            "Epoch 10/100\n",
            "568/568 [==============================] - ETA: 0s - loss: 4.4118 - accuracy: 0.2003\n",
            "Epoch 10: val_accuracy improved from 0.17515 to 0.17680, saving model to textsyn_model.h5\n",
            "568/568 [==============================] - 60s 105ms/step - loss: 4.4118 - accuracy: 0.2003 - val_loss: 5.7315 - val_accuracy: 0.1768\n",
            "Epoch 11/100\n",
            "568/568 [==============================] - ETA: 0s - loss: 4.3238 - accuracy: 0.2050\n",
            "Epoch 11: val_accuracy improved from 0.17680 to 0.17719, saving model to textsyn_model.h5\n",
            "568/568 [==============================] - 59s 104ms/step - loss: 4.3238 - accuracy: 0.2050 - val_loss: 5.8012 - val_accuracy: 0.1772\n",
            "Epoch 12/100\n",
            "568/568 [==============================] - ETA: 0s - loss: 4.2374 - accuracy: 0.2098\n",
            "Epoch 12: val_accuracy improved from 0.17719 to 0.17945, saving model to textsyn_model.h5\n",
            "568/568 [==============================] - 59s 103ms/step - loss: 4.2374 - accuracy: 0.2098 - val_loss: 5.9191 - val_accuracy: 0.1794\n",
            "Epoch 13/100\n",
            "568/568 [==============================] - ETA: 0s - loss: 4.1513 - accuracy: 0.2147\n",
            "Epoch 13: val_accuracy did not improve from 0.17945\n",
            "568/568 [==============================] - 57s 101ms/step - loss: 4.1513 - accuracy: 0.2147 - val_loss: 6.0168 - val_accuracy: 0.1778\n",
            "Epoch 14/100\n",
            "568/568 [==============================] - ETA: 0s - loss: 4.0723 - accuracy: 0.2191\n",
            "Epoch 14: val_accuracy did not improve from 0.17945\n",
            "568/568 [==============================] - 63s 110ms/step - loss: 4.0723 - accuracy: 0.2191 - val_loss: 6.1067 - val_accuracy: 0.1781\n",
            "Epoch 15/100\n",
            "568/568 [==============================] - ETA: 0s - loss: 4.0025 - accuracy: 0.2243\n",
            "Epoch 15: val_accuracy did not improve from 0.17945\n",
            "568/568 [==============================] - 57s 100ms/step - loss: 4.0025 - accuracy: 0.2243 - val_loss: 6.2512 - val_accuracy: 0.1754\n",
            "Epoch 16/100\n",
            "568/568 [==============================] - ETA: 0s - loss: 3.9298 - accuracy: 0.2287\n",
            "Epoch 16: val_accuracy did not improve from 0.17945\n",
            "568/568 [==============================] - 59s 104ms/step - loss: 3.9298 - accuracy: 0.2287 - val_loss: 6.3615 - val_accuracy: 0.1770\n",
            "Epoch 17/100\n",
            "568/568 [==============================] - ETA: 0s - loss: 3.8599 - accuracy: 0.2347\n",
            "Epoch 17: val_accuracy did not improve from 0.17945\n",
            "568/568 [==============================] - 58s 103ms/step - loss: 3.8599 - accuracy: 0.2347 - val_loss: 6.5197 - val_accuracy: 0.1761\n"
          ]
        },
        {
          "output_type": "execute_result",
          "data": {
            "text/plain": [
              "<keras.callbacks.History at 0x7efe881f0460>"
            ]
          },
          "metadata": {},
          "execution_count": 12
        }
      ],
      "source": [
        "model.fit(x_train,y_train,epochs=100,verbose=1,batch_size=128,validation_data=(x_test,y_test),callbacks=[checkP,Earstop])"
      ]
    }
  ],
  "metadata": {
    "kernelspec": {
      "display_name": "Python 3",
      "language": "python",
      "name": "python3"
    },
    "language_info": {
      "codemirror_mode": {
        "name": "ipython",
        "version": 3
      },
      "file_extension": ".py",
      "mimetype": "text/x-python",
      "name": "python",
      "nbconvert_exporter": "python",
      "pygments_lexer": "ipython3",
      "version": "3.9.0"
    },
    "orig_nbformat": 4,
    "colab": {
      "provenance": []
    }
  },
  "nbformat": 4,
  "nbformat_minor": 0
}