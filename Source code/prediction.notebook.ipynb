{
 "cells": [
  {
   "cell_type": "code",
   "execution_count": 1,
   "metadata": {},
   "outputs": [],
   "source": [
    "from tensorflow import keras\n",
    "from keras.preprocessing.text import Tokenizer\n",
    "from keras.preprocessing.sequence import pad_sequences\n",
    "\n",
    "import numpy as np\n",
    "import pickle"
   ]
  },
  {
   "cell_type": "code",
   "execution_count": 3,
   "metadata": {},
   "outputs": [],
   "source": [
    "mymodel     =  keras.models.load_model('textsyn_model.h5',compile=False)\n",
    "\n",
    "optimizer = keras.optimizers.Adam(learning_rate=0.001)\n",
    "mymodel.compile(loss='categorical_crossentropy', optimizer=optimizer)"
   ]
  },
  {
   "cell_type": "code",
   "execution_count": 4,
   "metadata": {},
   "outputs": [],
   "source": [
    "mymodel.save(\"textsyn_model_new.h5\")"
   ]
  },
  {
   "cell_type": "code",
   "execution_count": 5,
   "metadata": {},
   "outputs": [],
   "source": [
    "mytokenizer = pickle.load(open('mysimpletokenizer', 'rb'))"
   ]
  },
  {
   "cell_type": "code",
   "execution_count": 6,
   "metadata": {},
   "outputs": [],
   "source": [
    "def generate_text(model,tokenizer):\n",
    " seed_text=str(input(\"Enter the first few words [ max = 10 ] : \"))\n",
    " n=int(input(\"Enter no. of words to generate : \"))\n",
    " seed_text = seed_text.split(' ') \n",
    "\n",
    " tokenizer.fit_on_texts(seed_text)\n",
    " sequences=tokenizer.texts_to_sequences(seed_text)\n",
    " sequences = [s for s in sequences if len(s) > 0]  # remove empty sequences\n",
    "\n",
    " feature=pad_sequences([sequences], padding='post', maxlen=10)\n",
    " feature=feature.reshape(-1,)\n",
    "\n",
    " generated_text=np.array([])\n",
    " for i in range(n):\n",
    "    x_pred=np.reshape(feature,(1,10))\n",
    "    preds=model.predict(x_pred,verbose=0)[0]\n",
    "    next_word_index=np.argmax(preds)\n",
    "    next_word=tokenizer.index_word[next_word_index]\n",
    "    generated_text=np.concatenate([generated_text,[next_word]])\n",
    "    feature=np.concatenate([feature[1:],[next_word_index]],axis=0)\n",
    "\n",
    "    \n",
    " print('\\n')\n",
    " print('Your words : ',' '.join(seed_text))\n",
    " print('Next words: ',' '.join(generated_text))\n",
    " print('\\n')   \n"
   ]
  },
  {
   "cell_type": "code",
   "execution_count": 12,
   "metadata": {},
   "outputs": [
    {
     "name": "stdout",
     "output_type": "stream",
     "text": [
      "\n",
      "\n",
      "Your words :  this spring sure is beautiful\n",
      "Next words:  ” “ i ’m not\n",
      "\n",
      "\n"
     ]
    }
   ],
   "source": [
    "generate_text(model=mymodel,tokenizer=mytokenizer)\n",
    "    "
   ]
  }
 ],
 "metadata": {
  "kernelspec": {
   "display_name": "Python 3",
   "language": "python",
   "name": "python3"
  },
  "language_info": {
   "codemirror_mode": {
    "name": "ipython",
    "version": 3
   },
   "file_extension": ".py",
   "mimetype": "text/x-python",
   "name": "python",
   "nbconvert_exporter": "python",
   "pygments_lexer": "ipython3",
   "version": "3.9.0"
  },
  "orig_nbformat": 4
 },
 "nbformat": 4,
 "nbformat_minor": 2
}
